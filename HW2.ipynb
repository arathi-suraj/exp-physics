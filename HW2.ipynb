{
  "nbformat": 4,
  "nbformat_minor": 0,
  "metadata": {
    "colab": {
      "provenance": []
    },
    "kernelspec": {
      "name": "python3",
      "display_name": "Python 3"
    },
    "language_info": {
      "name": "python"
    }
  },
  "cells": [
    {
      "cell_type": "markdown",
      "source": [
        "This is the write-up + code for HW 2!"
      ],
      "metadata": {
        "id": "KACtW7dzRXHe"
      }
    },
    {
      "cell_type": "code",
      "source": [
        "from google.colab import drive\n",
        "drive.mount('/content/drive')"
      ],
      "metadata": {
        "colab": {
          "base_uri": "https://localhost:8080/",
          "height": 0
        },
        "id": "Xpyl9Rd8ResI",
        "outputId": "715c2ac9-bbe6-4869-fa63-eb5b77ae454d"
      },
      "execution_count": 1,
      "outputs": [
        {
          "output_type": "stream",
          "name": "stdout",
          "text": [
            "Mounted at /content/drive\n"
          ]
        }
      ]
    },
    {
      "cell_type": "markdown",
      "source": [
        "This is for output formatting purposes"
      ],
      "metadata": {
        "id": "d4QtqnJCZTdB"
      }
    },
    {
      "cell_type": "code",
      "source": [
        "from IPython.display import HTML, display\n",
        "\n",
        "def set_css():\n",
        "  display(HTML('''\n",
        "  <style>\n",
        "    pre {\n",
        "        white-space: pre-wrap;\n",
        "    }\n",
        "  </style>\n",
        "  '''))\n",
        "get_ipython().events.register('pre_run_cell', set_css)"
      ],
      "metadata": {
        "id": "7ko8lUMxZTHa"
      },
      "execution_count": 2,
      "outputs": []
    },
    {
      "cell_type": "code",
      "execution_count": 3,
      "metadata": {
        "id": "j-N22KXaRUI_",
        "colab": {
          "base_uri": "https://localhost:8080/",
          "height": 17
        },
        "outputId": "da325e05-60d1-4031-bc10-3db01d3afb30"
      },
      "outputs": [
        {
          "output_type": "display_data",
          "data": {
            "text/plain": [
              "<IPython.core.display.HTML object>"
            ],
            "text/html": [
              "\n",
              "  <style>\n",
              "    pre {\n",
              "        white-space: pre-wrap;\n",
              "    }\n",
              "  </style>\n",
              "  "
            ]
          },
          "metadata": {}
        }
      ],
      "source": [
        "import matplotlib.pyplot as plt\n",
        "import numpy as np\n",
        "import math\n",
        "from scipy.optimize import curve_fit"
      ]
    },
    {
      "cell_type": "code",
      "source": [
        "def avg(array):\n",
        "  sum = 0\n",
        "  for val in array:\n",
        "    sum += val\n",
        "  return(sum/len(array))"
      ],
      "metadata": {
        "id": "izuAYrg3VZVB",
        "colab": {
          "base_uri": "https://localhost:8080/",
          "height": 17
        },
        "outputId": "614c6d02-c0d6-4638-adec-700ecaf99c4b"
      },
      "execution_count": 4,
      "outputs": [
        {
          "output_type": "display_data",
          "data": {
            "text/plain": [
              "<IPython.core.display.HTML object>"
            ],
            "text/html": [
              "\n",
              "  <style>\n",
              "    pre {\n",
              "        white-space: pre-wrap;\n",
              "    }\n",
              "  </style>\n",
              "  "
            ]
          },
          "metadata": {}
        }
      ]
    },
    {
      "cell_type": "code",
      "source": [
        "def std(array):\n",
        "  sum = 0\n",
        "  N = len(array)\n",
        "  for val in array:\n",
        "    sum += val\n",
        "  avg = (sum/N)\n",
        "  sq = 0\n",
        "  for val in array:\n",
        "    sq += ((val-avg)**2)\n",
        "  return(math.sqrt(sq/(N-1)))"
      ],
      "metadata": {
        "colab": {
          "base_uri": "https://localhost:8080/",
          "height": 17
        },
        "id": "TT4X1Lyf0s8n",
        "outputId": "241d68f0-0c48-4069-dc41-4660e54d69ad"
      },
      "execution_count": 5,
      "outputs": [
        {
          "output_type": "display_data",
          "data": {
            "text/plain": [
              "<IPython.core.display.HTML object>"
            ],
            "text/html": [
              "\n",
              "  <style>\n",
              "    pre {\n",
              "        white-space: pre-wrap;\n",
              "    }\n",
              "  </style>\n",
              "  "
            ]
          },
          "metadata": {}
        }
      ]
    },
    {
      "cell_type": "markdown",
      "source": [
        "Question 1 \n",
        " \n",
        "Look at data 1 showing x, and y data for 10 repeats of an experiment. You want to \n",
        "test a power-law, y = Axp, model for the data. \n",
        "\n",
        "a) For each x value, determine the average y value, \\<y>, and its uncertainty. \n",
        "Determine the best power-law fit to the (x,\\<y>) data by finding the minimum \n",
        "χ2 (χ2min). Report χ2min, χ2red (reduced χ2), A, and p. Find the A and p \n",
        "uncertainties using the χ2min +1 method in 2D (see sect 11.5 in the book \n",
        "and Curve Fit examples in MATLAB). \n",
        "\n",
        "b) Linearize the data and fit it using ordinary least squares (OLS). Find \n",
        "A and p. \n",
        "\n",
        "c) Use the weighted least squares method (WLS) (as discussed in class) to \n",
        "fit the linearized data using an analytical function (matrix algebra). Find \n",
        "A and p and their uncertainties.\n",
        " \n",
        "d) Plot the x, \\<y> data points with error bars on a log scale and the three \n",
        "fits as lines. Compare and discuss the results and any differences \n",
        "between OLS and WLS. Include a comment on when WLS is most \n",
        "appropriate versus OLS."
      ],
      "metadata": {
        "id": "xpyBNIlicG41"
      }
    },
    {
      "cell_type": "code",
      "source": [
        "data = np.loadtxt(\"/content/drive/My Drive/hw2data.txt\", skiprows=2, max_rows=15)"
      ],
      "metadata": {
        "id": "IaUKuzdcTgK3",
        "colab": {
          "base_uri": "https://localhost:8080/",
          "height": 17
        },
        "outputId": "4b055e68-7f44-42f3-b5f1-a05527c433ff"
      },
      "execution_count": 6,
      "outputs": [
        {
          "output_type": "display_data",
          "data": {
            "text/plain": [
              "<IPython.core.display.HTML object>"
            ],
            "text/html": [
              "\n",
              "  <style>\n",
              "    pre {\n",
              "        white-space: pre-wrap;\n",
              "    }\n",
              "  </style>\n",
              "  "
            ]
          },
          "metadata": {}
        }
      ]
    },
    {
      "cell_type": "markdown",
      "source": [
        "a) Determine the average y value for each x"
      ],
      "metadata": {
        "id": "TBu55GIiVP0t"
      }
    },
    {
      "cell_type": "code",
      "source": [
        "avg_dict = {}\n",
        "for val in range(0, 14):\n",
        "  avg_dict[data[val][0]] = np.mean(data[val][1:11])\n",
        "\n",
        "print(avg_dict)"
      ],
      "metadata": {
        "colab": {
          "base_uri": "https://localhost:8080/",
          "height": 53
        },
        "id": "gaQX5ZpUU8_v",
        "outputId": "64a03407-d470-49d5-eabf-47452fb2cc61"
      },
      "execution_count": 7,
      "outputs": [
        {
          "output_type": "display_data",
          "data": {
            "text/plain": [
              "<IPython.core.display.HTML object>"
            ],
            "text/html": [
              "\n",
              "  <style>\n",
              "    pre {\n",
              "        white-space: pre-wrap;\n",
              "    }\n",
              "  </style>\n",
              "  "
            ]
          },
          "metadata": {}
        },
        {
          "output_type": "stream",
          "name": "stdout",
          "text": [
            "{0.2: 2.039, 0.36: 2.0410000000000004, 0.51: 2.4880000000000004, 0.65: 9.527, 0.79: 6.424000000000001, 0.92: 11.72, 1.05: 14.141, 1.17: 17.872000000000003, 1.29: 18.395999999999997, 1.42: 23.455000000000002, 1.54: 25.59, 1.65: 27.911, 1.77: 33.837, 1.88: 37.059000000000005}\n"
          ]
        }
      ]
    },
    {
      "cell_type": "code",
      "source": [
        "stdev_array= []\n",
        "\n",
        "for val in range(0, 14):\n",
        "  stdev_array.append(std(data[val][1:10]))\n",
        "  print(\"%f, %f\" % (data[val][0], std(data[val][1:10])))"
      ],
      "metadata": {
        "id": "daxNwTbsjT7s",
        "colab": {
          "base_uri": "https://localhost:8080/",
          "height": 267
        },
        "outputId": "ccc85ed5-4143-4b1a-90a3-db129b4aad60"
      },
      "execution_count": 8,
      "outputs": [
        {
          "output_type": "display_data",
          "data": {
            "text/plain": [
              "<IPython.core.display.HTML object>"
            ],
            "text/html": [
              "\n",
              "  <style>\n",
              "    pre {\n",
              "        white-space: pre-wrap;\n",
              "    }\n",
              "  </style>\n",
              "  "
            ]
          },
          "metadata": {}
        },
        {
          "output_type": "stream",
          "name": "stdout",
          "text": [
            "0.200000, 3.635975\n",
            "0.360000, 2.736172\n",
            "0.510000, 4.770929\n",
            "0.650000, 4.539584\n",
            "0.790000, 3.605598\n",
            "0.920000, 6.480792\n",
            "1.050000, 6.284028\n",
            "1.170000, 5.318172\n",
            "1.290000, 6.325150\n",
            "1.420000, 5.481619\n",
            "1.540000, 4.559427\n",
            "1.650000, 8.360105\n",
            "1.770000, 7.668181\n",
            "1.880000, 7.185491\n"
          ]
        }
      ]
    },
    {
      "cell_type": "markdown",
      "source": [
        "We use curve_fit() to find best chi^2 values."
      ],
      "metadata": {
        "id": "2uum0JWl27FI"
      }
    },
    {
      "cell_type": "markdown",
      "source": [
        "I would use curve_fit() to optimize this function and return the optimized popt and pcov values based on my initial guesses for A and p, which would be determined from the data. "
      ],
      "metadata": {
        "id": "mvLt0U7e6Ri1"
      }
    },
    {
      "cell_type": "code",
      "source": [
        "def power_law(A, x, p):\n",
        "  return A*(x**p)"
      ],
      "metadata": {
        "id": "RuGxenT32lTa",
        "colab": {
          "base_uri": "https://localhost:8080/",
          "height": 17
        },
        "outputId": "9b6fefc5-3c7c-451a-ac27-65a3b4526601"
      },
      "execution_count": 9,
      "outputs": [
        {
          "output_type": "display_data",
          "data": {
            "text/plain": [
              "<IPython.core.display.HTML object>"
            ],
            "text/html": [
              "\n",
              "  <style>\n",
              "    pre {\n",
              "        white-space: pre-wrap;\n",
              "    }\n",
              "  </style>\n",
              "  "
            ]
          },
          "metadata": {}
        }
      ]
    },
    {
      "cell_type": "code",
      "source": [
        "x_array = []\n",
        "for val in range(0, 14):\n",
        "  x_array.append(data[val][0])\n",
        "x_array = np.array(x_array)\n",
        "\n",
        "y_avg_array = []\n",
        "for val in range(0, 14):\n",
        "  y_avg_array.append(avg(data[val][1:10]))\n",
        "y_avg_array = np.array(y_avg_array)\n",
        "\n",
        "print(x_array)\n",
        "print(y_avg_array)"
      ],
      "metadata": {
        "colab": {
          "base_uri": "https://localhost:8080/",
          "height": 88
        },
        "id": "6k--V1jozoeV",
        "outputId": "13edd65b-29b8-44c6-e589-e85d20fef5ef"
      },
      "execution_count": 10,
      "outputs": [
        {
          "output_type": "display_data",
          "data": {
            "text/plain": [
              "<IPython.core.display.HTML object>"
            ],
            "text/html": [
              "\n",
              "  <style>\n",
              "    pre {\n",
              "        white-space: pre-wrap;\n",
              "    }\n",
              "  </style>\n",
              "  "
            ]
          },
          "metadata": {}
        },
        {
          "output_type": "stream",
          "name": "stdout",
          "text": [
            "[0.2  0.36 0.51 0.65 0.79 0.92 1.05 1.17 1.29 1.42 1.54 1.65 1.77 1.88]\n",
            "[ 2.70888889  2.96111111  2.33888889 10.06222222  5.95111111 12.13222222\n",
            " 13.31444444 18.56       17.98777778 23.77777778 25.87555556 26.77333333\n",
            " 35.25222222 36.54      ]\n"
          ]
        }
      ]
    },
    {
      "cell_type": "code",
      "source": [
        "popt, pcov = curve_fit(power_law, x_array, y_avg_array, p0=[15, 1.6])\n",
        "print(popt)"
      ],
      "metadata": {
        "colab": {
          "base_uri": "https://localhost:8080/",
          "height": 71
        },
        "id": "EgKTWYKU15Rj",
        "outputId": "85735937-ce38-478e-df2a-e7797c0b87fb"
      },
      "execution_count": 11,
      "outputs": [
        {
          "output_type": "display_data",
          "data": {
            "text/plain": [
              "<IPython.core.display.HTML object>"
            ],
            "text/html": [
              "\n",
              "  <style>\n",
              "    pre {\n",
              "        white-space: pre-wrap;\n",
              "    }\n",
              "  </style>\n",
              "  "
            ]
          },
          "metadata": {}
        },
        {
          "output_type": "stream",
          "name": "stdout",
          "text": [
            "[14.5844588   1.04502815]\n"
          ]
        },
        {
          "output_type": "stream",
          "name": "stderr",
          "text": [
            "<ipython-input-9-f2fe89e9ac08>:2: RuntimeWarning: invalid value encountered in double_scalars\n",
            "  return A*(x**p)\n"
          ]
        }
      ]
    },
    {
      "cell_type": "markdown",
      "source": [
        "Therefore, we're getting optimized values for A and p as 8.12 and 1.337 respectively. curve_fit() minimizes chi^2"
      ],
      "metadata": {
        "id": "NGlFsx9V4TZc"
      }
    },
    {
      "cell_type": "code",
      "source": [
        "def chi_sq(mean_array, stdev_array, y_array):\n",
        "  sum = 0\n",
        "  for val in range(0, len(y_array)):\n",
        "    chi = ((mean_array[val] - y_array[val])**2) / (stdev_array[val]**2)\n",
        "    sum += chi\n",
        "  return sum"
      ],
      "metadata": {
        "colab": {
          "base_uri": "https://localhost:8080/",
          "height": 17
        },
        "id": "4nvRAKnq4c6T",
        "outputId": "9c42d49f-a7be-4313-b480-9b29e75eda33"
      },
      "execution_count": 12,
      "outputs": [
        {
          "output_type": "display_data",
          "data": {
            "text/plain": [
              "<IPython.core.display.HTML object>"
            ],
            "text/html": [
              "\n",
              "  <style>\n",
              "    pre {\n",
              "        white-space: pre-wrap;\n",
              "    }\n",
              "  </style>\n",
              "  "
            ]
          },
          "metadata": {}
        }
      ]
    },
    {
      "cell_type": "code",
      "source": [
        "y_correct = []\n",
        "for val in range(0, 14):\n",
        "  y_correct.append(power_law(popt[0], x_array[val], popt[1]))"
      ],
      "metadata": {
        "colab": {
          "base_uri": "https://localhost:8080/",
          "height": 17
        },
        "id": "XRJVi1B5EIU4",
        "outputId": "ccfa1f3c-eea1-43fe-c000-1302e9325463"
      },
      "execution_count": 13,
      "outputs": [
        {
          "output_type": "display_data",
          "data": {
            "text/plain": [
              "<IPython.core.display.HTML object>"
            ],
            "text/html": [
              "\n",
              "  <style>\n",
              "    pre {\n",
              "        white-space: pre-wrap;\n",
              "    }\n",
              "  </style>\n",
              "  "
            ]
          },
          "metadata": {}
        }
      ]
    },
    {
      "cell_type": "code",
      "source": [
        "chi_2 = chi_sq(y_avg_array,stdev_array,y_correct);\n",
        "print(chi_2)"
      ],
      "metadata": {
        "colab": {
          "base_uri": "https://localhost:8080/",
          "height": 35
        },
        "id": "d37Ca6iWCG7y",
        "outputId": "3ba92c87-ece0-4edc-ccb1-8bd1cad814c0"
      },
      "execution_count": 14,
      "outputs": [
        {
          "output_type": "display_data",
          "data": {
            "text/plain": [
              "<IPython.core.display.HTML object>"
            ],
            "text/html": [
              "\n",
              "  <style>\n",
              "    pre {\n",
              "        white-space: pre-wrap;\n",
              "    }\n",
              "  </style>\n",
              "  "
            ]
          },
          "metadata": {}
        },
        {
          "output_type": "stream",
          "name": "stdout",
          "text": [
            "7.548081515441753\n"
          ]
        }
      ]
    },
    {
      "cell_type": "code",
      "source": [
        "red_chi_2 = chi_2/len(y_correct)\n",
        "print(red_chi_2)"
      ],
      "metadata": {
        "colab": {
          "base_uri": "https://localhost:8080/",
          "height": 35
        },
        "id": "pHEQiacBFHWe",
        "outputId": "b9459ae7-f67f-466c-b2ab-5dcb529f7ae0"
      },
      "execution_count": 15,
      "outputs": [
        {
          "output_type": "display_data",
          "data": {
            "text/plain": [
              "<IPython.core.display.HTML object>"
            ],
            "text/html": [
              "\n",
              "  <style>\n",
              "    pre {\n",
              "        white-space: pre-wrap;\n",
              "    }\n",
              "  </style>\n",
              "  "
            ]
          },
          "metadata": {}
        },
        {
          "output_type": "stream",
          "name": "stdout",
          "text": [
            "0.5391486796744109\n"
          ]
        }
      ]
    },
    {
      "cell_type": "code",
      "source": [
        "plt.plot(x_array, power_law(popt[0], x_array, popt[1]), label=\"%f*x^%f\" % (popt[0], popt[1]))\n",
        "plt.scatter(x_array, y_avg_array)\n",
        "plt.errorbar(x_array, y_avg_array, yerr=stdev_array, fmt=\"none\", color=\"red\")\n",
        "plt.legend()"
      ],
      "metadata": {
        "colab": {
          "base_uri": "https://localhost:8080/",
          "height": 283
        },
        "id": "3mwAfVmrDAJ-",
        "outputId": "9ab21e4e-58ba-48af-c3a6-43596b2999ed"
      },
      "execution_count": 16,
      "outputs": [
        {
          "output_type": "display_data",
          "data": {
            "text/plain": [
              "<IPython.core.display.HTML object>"
            ],
            "text/html": [
              "\n",
              "  <style>\n",
              "    pre {\n",
              "        white-space: pre-wrap;\n",
              "    }\n",
              "  </style>\n",
              "  "
            ]
          },
          "metadata": {}
        },
        {
          "output_type": "execute_result",
          "data": {
            "text/plain": [
              "<matplotlib.legend.Legend at 0x7f18b06df850>"
            ]
          },
          "metadata": {},
          "execution_count": 16
        },
        {
          "output_type": "display_data",
          "data": {
            "text/plain": [
              "<Figure size 432x288 with 1 Axes>"
            ],
            "image/png": "[encoded data removed]"
          },
          "metadata": {
            "needs_background": "light"
          }
        }
      ]
    },
    {
      "cell_type": "markdown",
      "source": [
        "To find chi^2 + 1, I define some radius and scan the parameter space where the values are the radius away from the minimum."
      ],
      "metadata": {
        "id": "MrTb4OWBQ_Wc"
      }
    },
    {
      "cell_type": "code",
      "source": [
        "rad = 0.1\n",
        "A_opt = popt[0]\n",
        "p_opt = popt[1]\n",
        "A_values = np.linspace(A_opt-rad, A_opt+rad, 200)\n",
        "p_values = np.linspace(p_opt-rad, p_opt+rad, 200)"
      ],
      "metadata": {
        "id": "e6MKljzCFV2F",
        "colab": {
          "base_uri": "https://localhost:8080/",
          "height": 17
        },
        "outputId": "65917730-e180-4fbf-9d7b-280900165b6d"
      },
      "execution_count": 17,
      "outputs": [
        {
          "output_type": "display_data",
          "data": {
            "text/plain": [
              "<IPython.core.display.HTML object>"
            ],
            "text/html": [
              "\n",
              "  <style>\n",
              "    pre {\n",
              "        white-space: pre-wrap;\n",
              "    }\n",
              "  </style>\n",
              "  "
            ]
          },
          "metadata": {}
        }
      ]
    },
    {
      "cell_type": "markdown",
      "source": [
        "This loop system finds the chi^2 values in a 2D area around the optimized A and p values."
      ],
      "metadata": {
        "id": "gRupHw_6Xn2J"
      }
    },
    {
      "cell_type": "code",
      "source": [
        "chi_2_array = []\n",
        "for A in A_values:\n",
        "  for p in p_values:\n",
        "    y_correct = []\n",
        "    for val in range(0, 14):\n",
        "      y_correct.append(power_law(A, x_array[val], p))\n",
        "    chi = chi_sq(y_avg_array, stdev_array, y_correct)\n",
        "    chi_2_array.append(chi)"
      ],
      "metadata": {
        "colab": {
          "base_uri": "https://localhost:8080/",
          "height": 17
        },
        "id": "tozObqCHSzuv",
        "outputId": "5e0fe5d3-644b-465b-b15b-da97fc6e2898"
      },
      "execution_count": 18,
      "outputs": [
        {
          "output_type": "display_data",
          "data": {
            "text/plain": [
              "<IPython.core.display.HTML object>"
            ],
            "text/html": [
              "\n",
              "  <style>\n",
              "    pre {\n",
              "        white-space: pre-wrap;\n",
              "    }\n",
              "  </style>\n",
              "  "
            ]
          },
          "metadata": {}
        }
      ]
    },
    {
      "cell_type": "markdown",
      "source": [
        "To find uncertainty, I find the stdev of the chi_2_array.\n"
      ],
      "metadata": {
        "id": "aNQXYlXvXuhP"
      }
    },
    {
      "cell_type": "code",
      "source": [
        "chi_plus_one = []\n",
        "for elem in chi_2_array:\n",
        "  if elem <= chi_2 + 1:\n",
        "    chi_plus_one.append(elem)\n",
        "uncer = std(chi_2_array)\n",
        "print(uncer)"
      ],
      "metadata": {
        "colab": {
          "base_uri": "https://localhost:8080/",
          "height": 35
        },
        "id": "hgaKpMfjXuM6",
        "outputId": "ce143e50-4d02-44aa-ce38-19b463a236d1"
      },
      "execution_count": 19,
      "outputs": [
        {
          "output_type": "display_data",
          "data": {
            "text/plain": [
              "<IPython.core.display.HTML object>"
            ],
            "text/html": [
              "\n",
              "  <style>\n",
              "    pre {\n",
              "        white-space: pre-wrap;\n",
              "    }\n",
              "  </style>\n",
              "  "
            ]
          },
          "metadata": {}
        },
        {
          "output_type": "stream",
          "name": "stdout",
          "text": [
            "1.28150204589345\n"
          ]
        }
      ]
    },
    {
      "cell_type": "markdown",
      "source": [
        "Now we linearize the data by taking the ln of both sides:\n",
        "\n",
        "y = A*x^p\n",
        "\n",
        "ln(y) = p*(ln(A) + ln(x))\n",
        "\n",
        "I let l = p, ln(A) = B and ln(x) = x"
      ],
      "metadata": {
        "id": "w-H_rnnca3P0"
      }
    },
    {
      "cell_type": "code",
      "source": [
        "def lin_pow_law(B, x, l):\n",
        "  return l*(B + x)"
      ],
      "metadata": {
        "colab": {
          "base_uri": "https://localhost:8080/",
          "height": 17
        },
        "id": "nGPrnXYbPY1O",
        "outputId": "b5c02031-e440-429b-bba7-821783d8a5ce"
      },
      "execution_count": 20,
      "outputs": [
        {
          "output_type": "display_data",
          "data": {
            "text/plain": [
              "<IPython.core.display.HTML object>"
            ],
            "text/html": [
              "\n",
              "  <style>\n",
              "    pre {\n",
              "        white-space: pre-wrap;\n",
              "    }\n",
              "  </style>\n",
              "  "
            ]
          },
          "metadata": {}
        }
      ]
    },
    {
      "cell_type": "code",
      "source": [
        "ln_y_array = np.log(y_avg_array)\n",
        "ln_x_array = np.log(x_array)\n",
        "ln_y_correct = np.log(y_correct)"
      ],
      "metadata": {
        "id": "KOV-7UExacan",
        "colab": {
          "base_uri": "https://localhost:8080/",
          "height": 17
        },
        "outputId": "886dd8cf-0580-4b97-ea97-aa21c84e8e1c"
      },
      "execution_count": 21,
      "outputs": [
        {
          "output_type": "display_data",
          "data": {
            "text/plain": [
              "<IPython.core.display.HTML object>"
            ],
            "text/html": [
              "\n",
              "  <style>\n",
              "    pre {\n",
              "        white-space: pre-wrap;\n",
              "    }\n",
              "  </style>\n",
              "  "
            ]
          },
          "metadata": {}
        }
      ]
    },
    {
      "cell_type": "markdown",
      "source": [
        "I find the stdev of the ln(y) values by this equation:\n",
        "\n",
        "d(ln(y)) = d(y)/y"
      ],
      "metadata": {
        "id": "xvbnZHEsVKGH"
      }
    },
    {
      "cell_type": "code",
      "source": [
        "stdev_ln = []\n",
        "for index in range(0, len(stdev_array)):\n",
        "  stdev_ln.append(stdev_array[index]/y_avg_array[index])"
      ],
      "metadata": {
        "colab": {
          "base_uri": "https://localhost:8080/",
          "height": 17
        },
        "id": "S3R_5K9lT8tR",
        "outputId": "20ff3cd9-b805-4e13-ecc4-acca905626b4"
      },
      "execution_count": 22,
      "outputs": [
        {
          "output_type": "display_data",
          "data": {
            "text/plain": [
              "<IPython.core.display.HTML object>"
            ],
            "text/html": [
              "\n",
              "  <style>\n",
              "    pre {\n",
              "        white-space: pre-wrap;\n",
              "    }\n",
              "  </style>\n",
              "  "
            ]
          },
          "metadata": {}
        }
      ]
    },
    {
      "cell_type": "code",
      "source": [
        "popt1, pcov = curve_fit(lin_pow_law, ln_x_array, ln_y_array)\n",
        "print(popt1)"
      ],
      "metadata": {
        "colab": {
          "base_uri": "https://localhost:8080/",
          "height": 35
        },
        "id": "sWhczm37PwtF",
        "outputId": "3ab590e8-a75c-4070-e51b-961ddce7dfca"
      },
      "execution_count": 23,
      "outputs": [
        {
          "output_type": "display_data",
          "data": {
            "text/plain": [
              "<IPython.core.display.HTML object>"
            ],
            "text/html": [
              "\n",
              "  <style>\n",
              "    pre {\n",
              "        white-space: pre-wrap;\n",
              "    }\n",
              "  </style>\n",
              "  "
            ]
          },
          "metadata": {}
        },
        {
          "output_type": "stream",
          "name": "stdout",
          "text": [
            "[1.90980296 1.35745421]\n"
          ]
        }
      ]
    },
    {
      "cell_type": "code",
      "source": [
        "plt.plot(ln_x_array, lin_pow_law(popt1[0], ln_x_array, popt1[1]), label=\"%f*(%f + ln(x))\" % (popt1[1], popt1[0]))\n",
        "plt.scatter(ln_x_array, ln_y_array)\n",
        "plt.errorbar(ln_x_array, ln_y_array, yerr=stdev_ln, fmt=\"none\", color=\"red\")\n",
        "plt.legend()"
      ],
      "metadata": {
        "colab": {
          "base_uri": "https://localhost:8080/",
          "height": 286
        },
        "id": "w3RPZzAlQLMa",
        "outputId": "6e0066ec-b0af-4d89-c918-70127cf8c4db"
      },
      "execution_count": 24,
      "outputs": [
        {
          "output_type": "display_data",
          "data": {
            "text/plain": [
              "<IPython.core.display.HTML object>"
            ],
            "text/html": [
              "\n",
              "  <style>\n",
              "    pre {\n",
              "        white-space: pre-wrap;\n",
              "    }\n",
              "  </style>\n",
              "  "
            ]
          },
          "metadata": {}
        },
        {
          "output_type": "execute_result",
          "data": {
            "text/plain": [
              "<matplotlib.legend.Legend at 0x7f18c9e5bd60>"
            ]
          },
          "metadata": {},
          "execution_count": 24
        },
        {
          "output_type": "display_data",
          "data": {
            "text/plain": [
              "<Figure size 432x288 with 1 Axes>"
            ],
            "image/png": "[encoded data removed]"
          },
          "metadata": {
            "needs_background": "light"
          }
        }
      ]
    },
    {
      "cell_type": "markdown",
      "source": [
        "Therefore, the linearized OLS fit parameters give me l = 1.357 and B = 1.909"
      ],
      "metadata": {
        "id": "rfWnai9tW02Y"
      }
    },
    {
      "cell_type": "code",
      "source": [
        "B_opt = popt1[1]\n",
        "new_A = np.exp(B_opt)\n",
        "new_p = popt1[0]\n",
        "print(\"New A: %f, new p: %f\" % (new_A, new_p))"
      ],
      "metadata": {
        "colab": {
          "base_uri": "https://localhost:8080/",
          "height": 35
        },
        "id": "Sfpdav7KW0oU",
        "outputId": "3b60df66-f0ce-48bd-bc5e-71c7c1dafbf4"
      },
      "execution_count": 25,
      "outputs": [
        {
          "output_type": "display_data",
          "data": {
            "text/plain": [
              "<IPython.core.display.HTML object>"
            ],
            "text/html": [
              "\n",
              "  <style>\n",
              "    pre {\n",
              "        white-space: pre-wrap;\n",
              "    }\n",
              "  </style>\n",
              "  "
            ]
          },
          "metadata": {}
        },
        {
          "output_type": "stream",
          "name": "stdout",
          "text": [
            "New A: 3.886287, new p: 1.909803\n"
          ]
        }
      ]
    },
    {
      "cell_type": "markdown",
      "source": [
        "We move on to the WLS method with matrices. For this part, I use the method outlined here: https://web.stanford.edu/~mrosenfe/soc_meth_proj3/matrix_OLS_NYU_notes.pdf"
      ],
      "metadata": {
        "id": "fGoZsWb-X5xk"
      }
    },
    {
      "cell_type": "markdown",
      "source": [],
      "metadata": {
        "id": "R2eTRx5jdUTn"
      }
    },
    {
      "cell_type": "code",
      "source": [
        "#test \n",
        "array1 = np.array([1, 2, 3, 4, 5])\n",
        "array2 = np.array([10, 10, 10, 10, 10])\n",
        "print(array1*array2)\n",
        "print(len(stdev_ln))\n",
        "print(len(ln_x_array))"
      ],
      "metadata": {
        "colab": {
          "base_uri": "https://localhost:8080/",
          "height": 71
        },
        "id": "TArbsNycXQt1",
        "outputId": "3591673d-28dd-41c8-c2a8-5753ebd5bea3"
      },
      "execution_count": 42,
      "outputs": [
        {
          "output_type": "display_data",
          "data": {
            "text/plain": [
              "<IPython.core.display.HTML object>"
            ],
            "text/html": [
              "\n",
              "  <style>\n",
              "    pre {\n",
              "        white-space: pre-wrap;\n",
              "    }\n",
              "  </style>\n",
              "  "
            ]
          },
          "metadata": {}
        },
        {
          "output_type": "stream",
          "name": "stdout",
          "text": [
            "[10 20 30 40 50]\n",
            "14\n",
            "14\n"
          ]
        }
      ]
    },
    {
      "cell_type": "code",
      "source": [
        "X_trans = np.vstack([np.ones_like(ln_x_array), ln_x_array])\n",
        "X_mat = X_trans.transpose()\n",
        "#print(X_trans)\n",
        "#print(X_mat)\n",
        "X_prime_X = np.matmul(X_trans, X_mat)\n",
        "inv_prod = np.linalg.inv(X_prime_X)\n",
        "# total mat is the total matrix multiplication before the y vector as seen in pg 3 of the linked lecture notes.\n",
        "total_mat = np.matmul(inv_prod, X_trans)\n",
        "y_vec = ln_y_array\n",
        "# now we look at the vector of optimized parameters, ie, the popt vector, which is beta in the linked lecture notes.\n",
        "beta = np.matmul(total_mat, y_vec)\n",
        "print(beta)"
      ],
      "metadata": {
        "id": "aXJcCasDYiS4",
        "colab": {
          "base_uri": "https://localhost:8080/",
          "height": 35
        },
        "outputId": "abd8a384-9bef-43aa-9347-f625f319a89f"
      },
      "execution_count": 64,
      "outputs": [
        {
          "output_type": "display_data",
          "data": {
            "text/plain": [
              "<IPython.core.display.HTML object>"
            ],
            "text/html": [
              "\n",
              "  <style>\n",
              "    pre {\n",
              "        white-space: pre-wrap;\n",
              "    }\n",
              "  </style>\n",
              "  "
            ]
          },
          "metadata": {}
        },
        {
          "output_type": "stream",
          "name": "stdout",
          "text": [
            "[2.59247006 1.3574542 ]\n"
          ]
        }
      ]
    },
    {
      "cell_type": "markdown",
      "source": [
        "Therefore, our beta vector returns our popt values as we expect from the matrix method! See pg 3 of the linked lecture notes to follow my procedure!\n",
        "\n",
        "We now get an optimized A = 2.59247 and an optimized p = 1.35745 from the weighted least squares method. \n",
        "\n"
      ],
      "metadata": {
        "id": "VNMrSVCobjyP"
      }
    },
    {
      "cell_type": "markdown",
      "source": [
        "To find their uncertainties, we find the stdevs."
      ],
      "metadata": {
        "id": "Jb5Bl2pVb6CM"
      }
    },
    {
      "cell_type": "code",
      "source": [
        "stdev_popt = np.sqrt(np.diag(inv_prod))\n",
        "print(stdev_popt)"
      ],
      "metadata": {
        "colab": {
          "base_uri": "https://localhost:8080/",
          "height": 35
        },
        "id": "2f_phWmwcDvi",
        "outputId": "1741bc94-f7c5-4b39-e675-a0b6c11223b5"
      },
      "execution_count": 65,
      "outputs": [
        {
          "output_type": "display_data",
          "data": {
            "text/plain": [
              "<IPython.core.display.HTML object>"
            ],
            "text/html": [
              "\n",
              "  <style>\n",
              "    pre {\n",
              "        white-space: pre-wrap;\n",
              "    }\n",
              "  </style>\n",
              "  "
            ]
          },
          "metadata": {}
        },
        {
          "output_type": "stream",
          "name": "stdout",
          "text": [
            "[0.2693382  0.42166114]\n"
          ]
        }
      ]
    },
    {
      "cell_type": "markdown",
      "source": [
        "Therefore, the uncertainties are as follows:\n",
        "\n",
        "A = 2.59247006 +/- 0.2693382\n",
        "\n",
        "p = 1.3574542 +/- 0.42166114"
      ],
      "metadata": {
        "id": "Q1k5jKqichdF"
      }
    },
    {
      "cell_type": "code",
      "source": [
        "y_correct_wls = np.matmul(X_mat, beta)\n",
        "print(y_correct_wls)"
      ],
      "metadata": {
        "colab": {
          "base_uri": "https://localhost:8080/",
          "height": 71
        },
        "id": "yRxOGefBcyn2",
        "outputId": "631ad116-491c-425d-cfd8-ec688f484ecb"
      },
      "execution_count": 67,
      "outputs": [
        {
          "output_type": "display_data",
          "data": {
            "text/plain": [
              "<IPython.core.display.HTML object>"
            ],
            "text/html": [
              "\n",
              "  <style>\n",
              "    pre {\n",
              "        white-space: pre-wrap;\n",
              "    }\n",
              "  </style>\n",
              "  "
            ]
          },
          "metadata": {}
        },
        {
          "output_type": "stream",
          "name": "stdout",
          "text": [
            "[0.4077318  1.20562528 1.67843566 2.00770198 2.27248778 2.47928334\n",
            " 2.65870047 2.80559545 2.93813521 3.0684707  3.17859491 3.27224958\n",
            " 3.36754864 3.44939258]\n"
          ]
        }
      ]
    },
    {
      "cell_type": "markdown",
      "source": [
        "We finally plot all three fits below."
      ],
      "metadata": {
        "id": "sKlsEO7fdJn3"
      }
    },
    {
      "cell_type": "code",
      "source": [
        "plt.xlabel(\"ln x\")\n",
        "plt.ylabel(\"ln yavg\")\n",
        "plt.scatter(ln_x_array, ln_y_array, label=\"Provided data\", color=\"#EE6737\")\n",
        "plt.errorbar(ln_x_array, ln_y_array, yerr=stdev_ln, fmt=\"none\", color=\"black\")\n",
        "plt.plot(ln_x_array, lin_pow_law(popt1[0], ln_x_array, popt1[1]), label=\"OLS fit with A = %f, p = %f\" % (popt1[0], popt[1]), color=\"#FF0878\")\n",
        "plt.plot(ln_x_array, y_correct_wls, label=\"WLS fit with A = %f, p = %f\" % (beta[0], beta[1]), color=\"#EAD340\")\n",
        "plt.plot(ln_x_array, lin_pow_law(np.log(A_opt), ln_x_array, p_opt), label=\"Chi^2 fit with A = %f, p = %f\" % (np.log(A_opt), p_opt), color=\"#3764E5\")\n",
        "plt.legend()"
      ],
      "metadata": {
        "colab": {
          "base_uri": "https://localhost:8080/",
          "height": 300
        },
        "id": "KYF7RkD9dL4J",
        "outputId": "25bd3785-b8e8-47c9-9050-d3fe61196949"
      },
      "execution_count": 83,
      "outputs": [
        {
          "output_type": "display_data",
          "data": {
            "text/plain": [
              "<IPython.core.display.HTML object>"
            ],
            "text/html": [
              "\n",
              "  <style>\n",
              "    pre {\n",
              "        white-space: pre-wrap;\n",
              "    }\n",
              "  </style>\n",
              "  "
            ]
          },
          "metadata": {}
        },
        {
          "output_type": "execute_result",
          "data": {
            "text/plain": [
              "<matplotlib.legend.Legend at 0x7f188d260d00>"
            ]
          },
          "metadata": {},
          "execution_count": 83
        },
        {
          "output_type": "display_data",
          "data": {
            "text/plain": [
              "<Figure size 432x288 with 1 Axes>"
            ],
            "image/png": "[encoded data removed]"
          },
          "metadata": {
            "needs_background": "light"
          }
        }
      ]
    },
    {
      "cell_type": "markdown",
      "source": [
        "The OLS and WLS fit are very close, but you can make them out if you zoom in!\n",
        "\n",
        "The WLS method is better when the data points do not have uniform error, as is the case with the provided data set. The OLS method works best when all points have uniform error, which isn't the case here.\n",
        "\n",
        "So I conclude that the WLS provides the best fit."
      ],
      "metadata": {
        "id": "lyy79CDBfuGz"
      }
    },
    {
      "cell_type": "markdown",
      "source": [
        "Q2: Data for problem 2 represents how the extension per base pair (b) of double-stranded DNA \n",
        "changes with incubation time (t) upon binding with a ligand. Fit the data to \n",
        " \n",
        "𝑏(𝑡) = 𝑏𝑒𝑞 − [𝑏𝑒𝑞 − 0.355]exp(−𝑘𝑡)\n",
        " \n",
        "and find the best values for association rate k and equilibrium extension beq. \n",
        " \n",
        "Report the values you found for minimized χ2, reduced χ2, and fitting parameters k and beq, \n",
        "along with their uncertainties. (Find the uncertainties in the parameters using the χ2min +1 \n",
        "method in two dimensions). Plot the data with error bars. Show the fitted curve. Comment on the \n",
        "goodness of the fit. "
      ],
      "metadata": {
        "id": "gg0MKIB7fcUF"
      }
    },
    {
      "cell_type": "code",
      "source": [
        "def formula(time, beq, k):\n",
        "  return(beq - ((beq - 0.355)*np.exp(-k*time)))"
      ],
      "metadata": {
        "colab": {
          "base_uri": "https://localhost:8080/",
          "height": 17
        },
        "id": "OQ7FRVfBffqK",
        "outputId": "0c1aaf1f-e4b1-4fce-cb16-bc916f136554"
      },
      "execution_count": null,
      "outputs": [
        {
          "output_type": "display_data",
          "data": {
            "text/plain": [
              "<IPython.core.display.HTML object>"
            ],
            "text/html": [
              "\n",
              "  <style>\n",
              "    pre {\n",
              "        white-space: pre-wrap;\n",
              "    }\n",
              "  </style>\n",
              "  "
            ]
          },
          "metadata": {}
        },
        {
          "output_type": "display_data",
          "data": {
            "text/plain": [
              "<IPython.core.display.HTML object>"
            ],
            "text/html": [
              "\n",
              "  <style>\n",
              "    pre {\n",
              "        white-space: pre-wrap;\n",
              "    }\n",
              "  </style>\n",
              "  "
            ]
          },
          "metadata": {}
        }
      ]
    },
    {
      "cell_type": "code",
      "source": [
        "q2 = np.loadtxt(\"/content/drive/My Drive/hw2data.txt\", skiprows=21)"
      ],
      "metadata": {
        "colab": {
          "base_uri": "https://localhost:8080/",
          "height": 17
        },
        "id": "Hq9YjSeZf00E",
        "outputId": "ba521b81-dba9-458a-9a77-86153a60cc65"
      },
      "execution_count": null,
      "outputs": [
        {
          "output_type": "display_data",
          "data": {
            "text/plain": [
              "<IPython.core.display.HTML object>"
            ],
            "text/html": [
              "\n",
              "  <style>\n",
              "    pre {\n",
              "        white-space: pre-wrap;\n",
              "    }\n",
              "  </style>\n",
              "  "
            ]
          },
          "metadata": {}
        },
        {
          "output_type": "display_data",
          "data": {
            "text/plain": [
              "<IPython.core.display.HTML object>"
            ],
            "text/html": [
              "\n",
              "  <style>\n",
              "    pre {\n",
              "        white-space: pre-wrap;\n",
              "    }\n",
              "  </style>\n",
              "  "
            ]
          },
          "metadata": {}
        }
      ]
    },
    {
      "cell_type": "code",
      "source": [
        "x_avg = []\n",
        "for index in range(0, len(q2)):\n",
        "  x_avg.append(avg(q2[index][1:4]))\n",
        "x_avg = np.array(x_avg)\n",
        "\n",
        "time = []\n",
        "for index in range(0, len(q2)):\n",
        "  time.append(q2[index][0])\n",
        "time = np.array(time)\n",
        "\n",
        "stdev_x = []\n",
        "for index in range(0, len(q2)):\n",
        "  value = std(q2[index][1:14])\n",
        "  stdev_x.append(value)"
      ],
      "metadata": {
        "colab": {
          "base_uri": "https://localhost:8080/",
          "height": 17
        },
        "id": "AQbQqOb4gso_",
        "outputId": "7ddbd402-d4a9-45e3-d532-948b7e404083"
      },
      "execution_count": null,
      "outputs": [
        {
          "output_type": "display_data",
          "data": {
            "text/plain": [
              "<IPython.core.display.HTML object>"
            ],
            "text/html": [
              "\n",
              "  <style>\n",
              "    pre {\n",
              "        white-space: pre-wrap;\n",
              "    }\n",
              "  </style>\n",
              "  "
            ]
          },
          "metadata": {}
        },
        {
          "output_type": "display_data",
          "data": {
            "text/plain": [
              "<IPython.core.display.HTML object>"
            ],
            "text/html": [
              "\n",
              "  <style>\n",
              "    pre {\n",
              "        white-space: pre-wrap;\n",
              "    }\n",
              "  </style>\n",
              "  "
            ]
          },
          "metadata": {}
        }
      ]
    },
    {
      "cell_type": "code",
      "source": [
        "popt2, pcov = curve_fit(formula, time, x_avg)\n",
        "print(popt2)"
      ],
      "metadata": {
        "colab": {
          "base_uri": "https://localhost:8080/",
          "height": 35
        },
        "id": "PyQGd_cvhwND",
        "outputId": "ccafebd7-aaf6-4895-f1f8-20c5e3615133"
      },
      "execution_count": null,
      "outputs": [
        {
          "output_type": "display_data",
          "data": {
            "text/plain": [
              "<IPython.core.display.HTML object>"
            ],
            "text/html": [
              "\n",
              "  <style>\n",
              "    pre {\n",
              "        white-space: pre-wrap;\n",
              "    }\n",
              "  </style>\n",
              "  "
            ]
          },
          "metadata": {}
        },
        {
          "output_type": "display_data",
          "data": {
            "text/plain": [
              "<IPython.core.display.HTML object>"
            ],
            "text/html": [
              "\n",
              "  <style>\n",
              "    pre {\n",
              "        white-space: pre-wrap;\n",
              "    }\n",
              "  </style>\n",
              "  "
            ]
          },
          "metadata": {}
        },
        {
          "output_type": "stream",
          "name": "stdout",
          "text": [
            "[0.40059164 0.20855519]\n"
          ]
        }
      ]
    },
    {
      "cell_type": "code",
      "source": [
        "plt.scatter(time, x_avg, label=\"Given data\")\n",
        "plt.plot(time, formula(popt2[1], popt2[0], time), label=\"beq = %f, k = %f\" %(popt2[0], popt2[1]), color=\"#FF7808\")\n",
        "plt.errorbar(time, x_avg, yerr=stdev_x, fmt=\"none\", color=\"red\", label=\"Error bars\")\n",
        "plt.legend()"
      ],
      "metadata": {
        "colab": {
          "base_uri": "https://localhost:8080/",
          "height": 283
        },
        "id": "6UqURH6YiZ3u",
        "outputId": "8f4854b1-bb46-4d70-a908-fa9300ed08d8"
      },
      "execution_count": null,
      "outputs": [
        {
          "output_type": "display_data",
          "data": {
            "text/plain": [
              "<IPython.core.display.HTML object>"
            ],
            "text/html": [
              "\n",
              "  <style>\n",
              "    pre {\n",
              "        white-space: pre-wrap;\n",
              "    }\n",
              "  </style>\n",
              "  "
            ]
          },
          "metadata": {}
        },
        {
          "output_type": "display_data",
          "data": {
            "text/plain": [
              "<IPython.core.display.HTML object>"
            ],
            "text/html": [
              "\n",
              "  <style>\n",
              "    pre {\n",
              "        white-space: pre-wrap;\n",
              "    }\n",
              "  </style>\n",
              "  "
            ]
          },
          "metadata": {}
        },
        {
          "output_type": "execute_result",
          "data": {
            "text/plain": [
              "<matplotlib.legend.Legend at 0x7fdc03244700>"
            ]
          },
          "metadata": {},
          "execution_count": 378
        },
        {
          "output_type": "display_data",
          "data": {
            "text/plain": [
              "<Figure size 432x288 with 1 Axes>"
            ],
            "image/png": "[encoded data removed]"
          },
          "metadata": {
            "needs_background": "light"
          }
        }
      ]
    },
    {
      "cell_type": "code",
      "source": [
        "x_correct = []\n",
        "for index in range(0, len(x_avg)):\n",
        "  x_calc = formula(time[index], popt2[0], popt2[1])\n",
        "  x_correct.append(x_calc)"
      ],
      "metadata": {
        "colab": {
          "base_uri": "https://localhost:8080/",
          "height": 17
        },
        "id": "M5MiTrZHkD2N",
        "outputId": "d46877d7-0e19-4f54-d6b3-89f8f9b256c6"
      },
      "execution_count": null,
      "outputs": [
        {
          "output_type": "display_data",
          "data": {
            "text/plain": [
              "<IPython.core.display.HTML object>"
            ],
            "text/html": [
              "\n",
              "  <style>\n",
              "    pre {\n",
              "        white-space: pre-wrap;\n",
              "    }\n",
              "  </style>\n",
              "  "
            ]
          },
          "metadata": {}
        },
        {
          "output_type": "display_data",
          "data": {
            "text/plain": [
              "<IPython.core.display.HTML object>"
            ],
            "text/html": [
              "\n",
              "  <style>\n",
              "    pre {\n",
              "        white-space: pre-wrap;\n",
              "    }\n",
              "  </style>\n",
              "  "
            ]
          },
          "metadata": {}
        }
      ]
    },
    {
      "cell_type": "code",
      "source": [
        "stdev_array = []\n",
        "for index in range(0, len(q2)):\n",
        "  std_val = std(q2[index][1:4])\n",
        "  stdev_array.append(std_val)"
      ],
      "metadata": {
        "colab": {
          "base_uri": "https://localhost:8080/",
          "height": 17
        },
        "id": "fmNroXTUka8V",
        "outputId": "2e54b206-7eea-4e65-9ca1-6c94bd930b82"
      },
      "execution_count": null,
      "outputs": [
        {
          "output_type": "display_data",
          "data": {
            "text/plain": [
              "<IPython.core.display.HTML object>"
            ],
            "text/html": [
              "\n",
              "  <style>\n",
              "    pre {\n",
              "        white-space: pre-wrap;\n",
              "    }\n",
              "  </style>\n",
              "  "
            ]
          },
          "metadata": {}
        },
        {
          "output_type": "display_data",
          "data": {
            "text/plain": [
              "<IPython.core.display.HTML object>"
            ],
            "text/html": [
              "\n",
              "  <style>\n",
              "    pre {\n",
              "        white-space: pre-wrap;\n",
              "    }\n",
              "  </style>\n",
              "  "
            ]
          },
          "metadata": {}
        }
      ]
    },
    {
      "cell_type": "code",
      "source": [
        "chi_2 = chi_sq(x_avg,stdev_array,x_correct)\n",
        "print(chi_2)"
      ],
      "metadata": {
        "colab": {
          "base_uri": "https://localhost:8080/",
          "height": 35
        },
        "id": "Te68NOSij9Yr",
        "outputId": "6f8fb15b-6824-4411-872a-076dc64f574d"
      },
      "execution_count": null,
      "outputs": [
        {
          "output_type": "display_data",
          "data": {
            "text/plain": [
              "<IPython.core.display.HTML object>"
            ],
            "text/html": [
              "\n",
              "  <style>\n",
              "    pre {\n",
              "        white-space: pre-wrap;\n",
              "    }\n",
              "  </style>\n",
              "  "
            ]
          },
          "metadata": {}
        },
        {
          "output_type": "display_data",
          "data": {
            "text/plain": [
              "<IPython.core.display.HTML object>"
            ],
            "text/html": [
              "\n",
              "  <style>\n",
              "    pre {\n",
              "        white-space: pre-wrap;\n",
              "    }\n",
              "  </style>\n",
              "  "
            ]
          },
          "metadata": {}
        },
        {
          "output_type": "stream",
          "name": "stdout",
          "text": [
            "3.2071553707560225\n"
          ]
        }
      ]
    },
    {
      "cell_type": "code",
      "source": [
        "chi_2_red = chi_2/len(x_avg)\n",
        "print(chi_2_red)"
      ],
      "metadata": {
        "colab": {
          "base_uri": "https://localhost:8080/",
          "height": 35
        },
        "id": "Z6EIbG5kkyUr",
        "outputId": "0bfeb271-ba3d-4636-b8eb-2820a766471e"
      },
      "execution_count": null,
      "outputs": [
        {
          "output_type": "display_data",
          "data": {
            "text/plain": [
              "<IPython.core.display.HTML object>"
            ],
            "text/html": [
              "\n",
              "  <style>\n",
              "    pre {\n",
              "        white-space: pre-wrap;\n",
              "    }\n",
              "  </style>\n",
              "  "
            ]
          },
          "metadata": {}
        },
        {
          "output_type": "display_data",
          "data": {
            "text/plain": [
              "<IPython.core.display.HTML object>"
            ],
            "text/html": [
              "\n",
              "  <style>\n",
              "    pre {\n",
              "        white-space: pre-wrap;\n",
              "    }\n",
              "  </style>\n",
              "  "
            ]
          },
          "metadata": {}
        },
        {
          "output_type": "stream",
          "name": "stdout",
          "text": [
            "0.1282862148302409\n"
          ]
        }
      ]
    },
    {
      "cell_type": "markdown",
      "source": [
        "Estimating uncertainty in found values by chi^2 + 1 method"
      ],
      "metadata": {
        "id": "UgmwOrpnk7T7"
      }
    },
    {
      "cell_type": "code",
      "source": [
        "rad = 0.4\n",
        "beq_opt = popt2[0]\n",
        "k_opt = popt2[1]\n",
        "beq_values = np.linspace(beq_opt-rad, beq_opt+rad, 200)\n",
        "k_values = np.linspace(k_opt-rad, k_opt+rad, 200)"
      ],
      "metadata": {
        "colab": {
          "base_uri": "https://localhost:8080/",
          "height": 17
        },
        "id": "sf0dDd9vlAjV",
        "outputId": "e7d77c30-8c2c-4511-8fd2-43a9cb7983f8"
      },
      "execution_count": null,
      "outputs": [
        {
          "output_type": "display_data",
          "data": {
            "text/plain": [
              "<IPython.core.display.HTML object>"
            ],
            "text/html": [
              "\n",
              "  <style>\n",
              "    pre {\n",
              "        white-space: pre-wrap;\n",
              "    }\n",
              "  </style>\n",
              "  "
            ]
          },
          "metadata": {}
        },
        {
          "output_type": "display_data",
          "data": {
            "text/plain": [
              "<IPython.core.display.HTML object>"
            ],
            "text/html": [
              "\n",
              "  <style>\n",
              "    pre {\n",
              "        white-space: pre-wrap;\n",
              "    }\n",
              "  </style>\n",
              "  "
            ]
          },
          "metadata": {}
        }
      ]
    },
    {
      "cell_type": "code",
      "source": [
        "chi_2_array = []\n",
        "for beq in beq_values:\n",
        "  for k in k_values:\n",
        "    x_correct = []\n",
        "    for val in range(0, 14):\n",
        "      x_correct.append(formula(time[val], beq, k))\n",
        "    chi = chi_sq(x_avg, stdev_array, x_correct)\n",
        "    chi_2_array.append(chi)"
      ],
      "metadata": {
        "colab": {
          "base_uri": "https://localhost:8080/",
          "height": 17
        },
        "id": "kvIVMFqKlQ33",
        "outputId": "c162ddf0-8033-471c-a375-d535d174ff0d"
      },
      "execution_count": null,
      "outputs": [
        {
          "output_type": "display_data",
          "data": {
            "text/plain": [
              "<IPython.core.display.HTML object>"
            ],
            "text/html": [
              "\n",
              "  <style>\n",
              "    pre {\n",
              "        white-space: pre-wrap;\n",
              "    }\n",
              "  </style>\n",
              "  "
            ]
          },
          "metadata": {}
        },
        {
          "output_type": "display_data",
          "data": {
            "text/plain": [
              "<IPython.core.display.HTML object>"
            ],
            "text/html": [
              "\n",
              "  <style>\n",
              "    pre {\n",
              "        white-space: pre-wrap;\n",
              "    }\n",
              "  </style>\n",
              "  "
            ]
          },
          "metadata": {}
        }
      ]
    },
    {
      "cell_type": "code",
      "source": [
        "chi_plus_one = []\n",
        "for elem in chi_2_array:\n",
        "  if elem <= (chi_2 + 1):\n",
        "    chi_plus_one.append(elem)\n",
        "uncer = std(chi_plus_one)\n",
        "print(uncer)"
      ],
      "metadata": {
        "colab": {
          "base_uri": "https://localhost:8080/",
          "height": 35
        },
        "id": "1S-xkXy1miZ0",
        "outputId": "685863d4-b65f-44b5-a1fe-26107d822411"
      },
      "execution_count": null,
      "outputs": [
        {
          "output_type": "display_data",
          "data": {
            "text/plain": [
              "<IPython.core.display.HTML object>"
            ],
            "text/html": [
              "\n",
              "  <style>\n",
              "    pre {\n",
              "        white-space: pre-wrap;\n",
              "    }\n",
              "  </style>\n",
              "  "
            ]
          },
          "metadata": {}
        },
        {
          "output_type": "display_data",
          "data": {
            "text/plain": [
              "<IPython.core.display.HTML object>"
            ],
            "text/html": [
              "\n",
              "  <style>\n",
              "    pre {\n",
              "        white-space: pre-wrap;\n",
              "    }\n",
              "  </style>\n",
              "  "
            ]
          },
          "metadata": {}
        },
        {
          "output_type": "stream",
          "name": "stdout",
          "text": [
            "0.490701846771371\n"
          ]
        }
      ]
    },
    {
      "cell_type": "markdown",
      "source": [
        "We estimate the goodness of the fit by using R^2."
      ],
      "metadata": {
        "id": "OrdPPKz9oDuj"
      }
    },
    {
      "cell_type": "code",
      "source": [
        "rss_elems = np.square(x_avg - x_correct)\n",
        "rss = np.sum(rss_elems)\n",
        "tss_elems = np.square(stdev_x) * (24)\n",
        "tss = np.sum(tss_elems)\n",
        "r_sq = 1 - (rss/tss)\n",
        "print(r_sq)"
      ],
      "metadata": {
        "colab": {
          "base_uri": "https://localhost:8080/",
          "height": 35
        },
        "id": "ZQjDPUwAoPsa",
        "outputId": "ea2a51de-77a4-45e8-d3d7-2eb899d9a1c2"
      },
      "execution_count": null,
      "outputs": [
        {
          "output_type": "display_data",
          "data": {
            "text/plain": [
              "<IPython.core.display.HTML object>"
            ],
            "text/html": [
              "\n",
              "  <style>\n",
              "    pre {\n",
              "        white-space: pre-wrap;\n",
              "    }\n",
              "  </style>\n",
              "  "
            ]
          },
          "metadata": {}
        },
        {
          "output_type": "display_data",
          "data": {
            "text/plain": [
              "<IPython.core.display.HTML object>"
            ],
            "text/html": [
              "\n",
              "  <style>\n",
              "    pre {\n",
              "        white-space: pre-wrap;\n",
              "    }\n",
              "  </style>\n",
              "  "
            ]
          },
          "metadata": {}
        },
        {
          "output_type": "stream",
          "name": "stdout",
          "text": [
            "0.9906786729234204\n"
          ]
        }
      ]
    },
    {
      "cell_type": "markdown",
      "source": [
        "We get R^2 = 0.9907 which is a 99.07% fit to the data, indicating a good fit."
      ],
      "metadata": {
        "id": "ZGy0BTgSqUYl"
      }
    }
  ]
}