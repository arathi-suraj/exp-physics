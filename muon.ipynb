{
  "nbformat": 4,
  "nbformat_minor": 0,
  "metadata": {
    "colab": {
      "provenance": []
    },
    "kernelspec": {
      "name": "python3",
      "display_name": "Python 3"
    },
    "language_info": {
      "name": "python"
    }
  },
  "cells": [
    {
      "cell_type": "code",
      "execution_count": null,
      "metadata": {
        "colab": {
          "base_uri": "https://localhost:8080/"
        },
        "id": "z8VzQrUJCoFz",
        "outputId": "aaa5be77-f294-4a54-c337-4d4a1b99c090"
      },
      "outputs": [
        {
          "output_type": "stream",
          "name": "stdout",
          "text": [
            "Mounted at /content/drive\n"
          ]
        }
      ],
      "source": [
        "from google.colab import drive\n",
        "drive.mount('/content/drive')"
      ]
    },
    {
      "cell_type": "code",
      "source": [
        "import matplotlib.pyplot as plt\n",
        "import numpy as np\n",
        "import math\n",
        "from scipy.optimize import minimize"
      ],
      "metadata": {
        "id": "NhpcX7kMCy3l"
      },
      "execution_count": null,
      "outputs": []
    },
    {
      "cell_type": "code",
      "source": [
        "data = np.loadtxt(\"/content/drive/My Drive/raw_data.txt\")"
      ],
      "metadata": {
        "id": "7seqseehDBdJ"
      },
      "execution_count": null,
      "outputs": []
    },
    {
      "cell_type": "code",
      "source": [
        "x_axis = 0\n",
        "filt_data = []\n",
        "\n",
        "for val in data:\n",
        "  if val > 0 and val <= 2e-5:\n",
        "    filt_data.append(val)\n",
        "  else:\n",
        "    pass\n",
        "\n",
        "filt_data = np.array(filt_data)\n",
        "ln_filt = np.log(filt_data)\n",
        "\n",
        "n, bins, patches = plt.hist(filt_data, bins=20, label=\"Data\")\n",
        "y_axis, x_axis = np.histogram(filt_data, bins=20)\n",
        "x_axis = x_axis[:-1]\n",
        "err = np.sqrt(y_axis)\n",
        "#plt.scatter(x_axis, y_axis)\n",
        "plt.errorbar(x_axis, y_axis, yerr=err, fmt=\"+\", label=\"Error\")\n",
        "plt.legend()\n",
        "plt.xlabel(\"Time (s)\")\n",
        "plt.ylabel(\"Counts\")\n",
        "plt.title(\"Histogram of decay events\")\n",
        "#plt.xticks(mid, labels=mid)\n",
        "#plt.xlim(0, 0.05)\n",
        "#plt.ylim(0, 1000)"
      ],
      "metadata": {
        "colab": {
          "base_uri": "https://localhost:8080/",
          "height": 313
        },
        "id": "urgPuqnADRjH",
        "outputId": "352816f1-14be-4d73-b5d8-1d5b1ebe0415"
      },
      "execution_count": null,
      "outputs": [
        {
          "output_type": "execute_result",
          "data": {
            "text/plain": [
              "Text(0.5, 1.0, 'Histogram of decay events')"
            ]
          },
          "metadata": {},
          "execution_count": 26
        },
        {
          "output_type": "display_data",
          "data": {
            "text/plain": [
              "<Figure size 432x288 with 1 Axes>"
            ],
            "image/png": "[encoded data removed]"
          },
          "metadata": {
            "needs_background": "light"
          }
        }
      ]
    },
    {
      "cell_type": "code",
      "source": [
        "x_axis = np.linspace(0, 1, len(n))\n",
        "plt.plot(x_axis, np.log(n))\n",
        "plt.xlabel(\"Index\")\n",
        "plt.ylabel(\"ln(counts)\")"
      ],
      "metadata": {
        "colab": {
          "base_uri": "https://localhost:8080/",
          "height": 297
        },
        "id": "JkAteOy8FbcN",
        "outputId": "4ae0ec15-594e-41d0-c258-af38c5c5bc35"
      },
      "execution_count": null,
      "outputs": [
        {
          "output_type": "execute_result",
          "data": {
            "text/plain": [
              "Text(0, 0.5, 'ln(counts)')"
            ]
          },
          "metadata": {},
          "execution_count": 19
        },
        {
          "output_type": "display_data",
          "data": {
            "text/plain": [
              "<Figure size 432x288 with 1 Axes>"
            ],
            "image/png": "[encoded data removed]"
          },
          "metadata": {
            "needs_background": "light"
          }
        }
      ]
    },
    {
      "cell_type": "code",
      "source": [
        "print(n)\n",
        "print(bins[1]-bins[0])"
      ],
      "metadata": {
        "colab": {
          "base_uri": "https://localhost:8080/"
        },
        "id": "aI7ymscnQ4eq",
        "outputId": "f908c53e-1655-4212-97c7-dd0ded7bbbe1"
      },
      "execution_count": null,
      "outputs": [
        {
          "output_type": "stream",
          "name": "stdout",
          "text": [
            "[4235. 2107. 1583. 1234. 1186.  928.  906.  794.  715.  709.  573.  506.\n",
            "  512.  468.  474.  393.  424.  386.  357.  372.]\n",
            "9.5e-07\n"
          ]
        }
      ]
    },
    {
      "cell_type": "code",
      "source": [
        "times = []\n",
        "for index in range(0, len(n)):\n",
        "  times.append((bins[index+1]+bins[index])/2)\n",
        "mid = np.array(times)\n",
        "print(mid, len(mid))\n",
        "#print(mid[1]-mid[0], mid[2]-mid[1])"
      ],
      "metadata": {
        "colab": {
          "base_uri": "https://localhost:8080/"
        },
        "id": "kfMmR2Q7S5T3",
        "outputId": "4a2fef45-aca5-49ae-8a82-938478786357"
      },
      "execution_count": null,
      "outputs": [
        {
          "output_type": "stream",
          "name": "stdout",
          "text": [
            "[1.4750e-06 2.4250e-06 3.3750e-06 4.3250e-06 5.2750e-06 6.2250e-06\n",
            " 7.1750e-06 8.1250e-06 9.0750e-06 1.0025e-05 1.0975e-05 1.1925e-05\n",
            " 1.2875e-05 1.3825e-05 1.4775e-05 1.5725e-05 1.6675e-05 1.7625e-05\n",
            " 1.8575e-05 1.9525e-05] 20\n"
          ]
        }
      ]
    },
    {
      "cell_type": "code",
      "source": [
        "def exp(time, N, l):\n",
        "  return N*np.exp(-l*time)"
      ],
      "metadata": {
        "id": "_ft225Cpj6yn"
      },
      "execution_count": null,
      "outputs": []
    },
    {
      "cell_type": "code",
      "source": [
        "def binlnL(time, n, taus, width, Nopt):\n",
        "  array = []\n",
        "  sum = 0\n",
        "  for val in taus:\n",
        "    for index in range(0, len(time)):\n",
        "      sum += (n[index]*np.log(exp(time[index], Nopt, 1/val)*width)) - (exp(time[index], Nopt, 1/val)*width)\n",
        "    array.append(sum)\n",
        "  return array"
      ],
      "metadata": {
        "id": "lCw9wjEKZghg"
      },
      "execution_count": null,
      "outputs": []
    },
    {
      "cell_type": "code",
      "source": [
        "from scipy.optimize import curve_fit"
      ],
      "metadata": {
        "id": "K68SNolU8o8m"
      },
      "execution_count": null,
      "outputs": []
    },
    {
      "cell_type": "code",
      "source": [
        "popt, pcov = curve_fit(exp, mid, n, p0=[16000, 1/2.5e-6])\n",
        "print(popt)"
      ],
      "metadata": {
        "colab": {
          "base_uri": "https://localhost:8080/"
        },
        "id": "aFplolql8GkV",
        "outputId": "92076c75-54d5-4a89-e7cd-857a6dc0c5f7"
      },
      "execution_count": null,
      "outputs": [
        {
          "output_type": "stream",
          "name": "stdout",
          "text": [
            "[  4661.56229932 233115.88694478]\n"
          ]
        }
      ]
    },
    {
      "cell_type": "code",
      "source": [
        "print(1/popt[1])\n",
        "print(1/2.2e-6)"
      ],
      "metadata": {
        "colab": {
          "base_uri": "https://localhost:8080/"
        },
        "id": "UpVs_O218zov",
        "outputId": "759b218f-789e-4097-c6e2-efa05d9d7179"
      },
      "execution_count": null,
      "outputs": [
        {
          "output_type": "stream",
          "name": "stdout",
          "text": [
            "4.289711924425292e-06\n",
            "454545.45454545453\n"
          ]
        }
      ]
    },
    {
      "cell_type": "code",
      "source": [
        "plt.plot(mid, exp(mid, *popt), label=\"Guessed fit\")\n",
        "plt.errorbar(x_axis, y_axis, yerr=err, fmt=\"+\", label=\"Error\")\n",
        "n, bins, patches = plt.hist(filt_data, bins=20, label=\"Data\")\n",
        "plt.legend()\n",
        "plt.xlabel(\"Time (s)\")\n",
        "plt.ylabel(\"Counts\")\n",
        "plt.title(\"curve_fit() optimized fit for muon decay time\")"
      ],
      "metadata": {
        "colab": {
          "base_uri": "https://localhost:8080/",
          "height": 313
        },
        "id": "cGZshM_3h6TG",
        "outputId": "08ed5755-db17-49a2-de19-1c2bf7a2110d"
      },
      "execution_count": null,
      "outputs": [
        {
          "output_type": "execute_result",
          "data": {
            "text/plain": [
              "Text(0.5, 1.0, 'curve_fit() optimized fit for muon decay time')"
            ]
          },
          "metadata": {},
          "execution_count": 33
        },
        {
          "output_type": "display_data",
          "data": {
            "text/plain": [
              "<Figure size 432x288 with 1 Axes>"
            ],
            "image/png": "[encoded data removed]"
          },
          "metadata": {
            "needs_background": "light"
          }
        }
      ]
    },
    {
      "cell_type": "code",
      "source": [
        "print(bins[1]-bins[0])"
      ],
      "metadata": {
        "colab": {
          "base_uri": "https://localhost:8080/"
        },
        "id": "7FevciQrCgv4",
        "outputId": "176f1594-a400-4605-e6bf-24ca6f7eddc4"
      },
      "execution_count": 49,
      "outputs": [
        {
          "output_type": "stream",
          "name": "stdout",
          "text": [
            "9.5e-07\n"
          ]
        }
      ]
    },
    {
      "cell_type": "code",
      "source": [
        "lerr = np.sqrt(np.diag(pcov)) # Finding the error of the fit from the covariance matrix\n",
        "print(lerr)"
      ],
      "metadata": {
        "colab": {
          "base_uri": "https://localhost:8080/"
        },
        "id": "Tltg6m7rQ3uH",
        "outputId": "5dcb3613-fcb0-44f7-f69d-03c16055bcd6"
      },
      "execution_count": 50,
      "outputs": [
        {
          "output_type": "stream",
          "name": "stdout",
          "text": [
            "[  584.27716754 32838.17528891]\n"
          ]
        }
      ]
    },
    {
      "cell_type": "markdown",
      "source": [
        "If error in 1/t = 15997.0008, then error in t is\n",
        "\n",
        "d(1/t) = |-1/t^2| * dt"
      ],
      "metadata": {
        "id": "vfWLhzW6Rfgd"
      }
    },
    {
      "cell_type": "code",
      "source": [
        "tauerr = lerr[1]*((1/popt[1])**2)\n",
        "print(tauerr)"
      ],
      "metadata": {
        "colab": {
          "base_uri": "https://localhost:8080/"
        },
        "id": "BPMcZR1DR3R0",
        "outputId": "065b7cca-421b-4ab4-b21c-47c77d9c9f76"
      },
      "execution_count": 51,
      "outputs": [
        {
          "output_type": "stream",
          "name": "stdout",
          "text": [
            "6.042758988217866e-07\n"
          ]
        }
      ]
    },
    {
      "cell_type": "markdown",
      "source": [
        "Therefore the error is about 0.374 us!"
      ],
      "metadata": {
        "id": "ahs9AGcOSNpU"
      }
    },
    {
      "cell_type": "markdown",
      "source": [
        "New fitting using binned ml"
      ],
      "metadata": {
        "id": "a0BzN0KvzRFd"
      }
    },
    {
      "cell_type": "code",
      "source": [
        "from scipy.special import gammaln\n",
        "from scipy.signal import find_peaks"
      ],
      "metadata": {
        "id": "AhATrfj-7Z-f"
      },
      "execution_count": 52,
      "outputs": []
    },
    {
      "cell_type": "code",
      "source": [
        "def lnprob(t_i, count, tau, N0):\n",
        "  mean = N0*(np.exp(-t_i/tau))\n",
        "  ln_p_i = count*np.log(mean) - gammaln(count) - mean\n",
        "  return ln_p_i"
      ],
      "metadata": {
        "id": "HTgaHZhzzOFl"
      },
      "execution_count": 53,
      "outputs": []
    },
    {
      "cell_type": "code",
      "source": [
        "counts = []\n",
        "for val in n:\n",
        "  counts.append(int(val))\n",
        "\n",
        "counts = np.array(counts)\n",
        "times = mid\n",
        "taus = np.linspace(1e-6, 100e-6, 100)\n",
        "#print(type(taus[0]))\n",
        "probs = []\n",
        "for val in taus:\n",
        "  totp = 0\n",
        "  for index in range(0, len(counts)):\n",
        "    totp += lnprob(times[index], counts[index], val, N0=popt[0])\n",
        "  probs.append(totp)\n",
        "\n",
        "plt.xlim(4.9993e-6, 5.002e-6)\n",
        "plt.ylim(-1552, -1551)\n",
        "plt.plot(taus, probs, label=\"Data\")\n",
        "plt.hlines(max(probs)+np.log(0.5), 0, 0.00004, color=\"black\", label=\"ln(P{i, tau}) + 0.5\")\n",
        "plt.xlabel(\"Time (s)\")\n",
        "plt.vlines(5e-06, 0, -2000, color=\"red\", label=\"max of ln(P{i, tau})\")\n",
        "plt.legend()\n",
        "plt.ylabel(\"Sum of ln(P{i, tau})\")\n",
        "#plt.vlines(probs[4])\n",
        "#plt.vlines(5.5e-6, -80000, 0, color=\"black\")"
      ],
      "metadata": {
        "colab": {
          "base_uri": "https://localhost:8080/",
          "height": 301
        },
        "id": "60GW6yZS1ywQ",
        "outputId": "b9e92fcf-7255-44cc-b1e8-f927fcc75071"
      },
      "execution_count": 129,
      "outputs": [
        {
          "output_type": "execute_result",
          "data": {
            "text/plain": [
              "Text(0, 0.5, 'Sum of ln(P{i, tau})')"
            ]
          },
          "metadata": {},
          "execution_count": 129
        },
        {
          "output_type": "display_data",
          "data": {
            "text/plain": [
              "<Figure size 432x288 with 1 Axes>"
            ],
            "image/png": "[encoded data removed]"
          },
          "metadata": {
            "needs_background": "light"
          }
        }
      ]
    },
    {
      "cell_type": "code",
      "source": [
        "for "
      ],
      "metadata": {
        "id": "F8CKVWpuDdxw"
      },
      "execution_count": null,
      "outputs": []
    },
    {
      "cell_type": "code",
      "source": [
        "find_peaks(probs)\n",
        "print(probs[4])\n",
        "print(taus[4])"
      ],
      "metadata": {
        "colab": {
          "base_uri": "https://localhost:8080/"
        },
        "id": "RTzV_4VGPbAk",
        "outputId": "cb2fa897-99a2-44d3-d628-36197fed5ec0"
      },
      "execution_count": null,
      "outputs": [
        {
          "output_type": "stream",
          "name": "stdout",
          "text": [
            "-1550.762472998575\n",
            "5e-06\n"
          ]
        }
      ]
    },
    {
      "cell_type": "code",
      "source": [
        "def totln(opts, times, counts):\n",
        "    N0, tau = opts[0], opts[1]\n",
        "    totp = 0\n",
        "    for index in range(0, len(counts)):\n",
        "      totp += lnprob(times[index], counts[index], tau, N0=popt[0])\n",
        "    return(-1*totp)"
      ],
      "metadata": {
        "id": "P5APNiAtMBZc"
      },
      "execution_count": null,
      "outputs": []
    },
    {
      "cell_type": "code",
      "source": [
        "minimize(totln, x0=[4000, 5.5e-6], method=\"Nelder-Mead\", args=(times, counts))"
      ],
      "metadata": {
        "colab": {
          "base_uri": "https://localhost:8080/"
        },
        "id": "f514hWcfIRnN",
        "outputId": "cd0655d3-c48f-431b-cd3e-e8c53f2bffa9"
      },
      "execution_count": null,
      "outputs": [
        {
          "output_type": "execute_result",
          "data": {
            "text/plain": [
              "       message: Optimization terminated successfully.\n",
              "       success: True\n",
              "        status: 0\n",
              "           fun: 1396.639876407346\n",
              "             x: [ 4.738e+03  5.465e-06]\n",
              "           nit: 70\n",
              "          nfev: 177\n",
              " final_simplex: (array([[ 4.738e+03,  5.465e-06],\n",
              "                       [ 4.738e+03,  5.465e-06],\n",
              "                       [ 4.738e+03,  5.465e-06]]), array([ 1.397e+03,  1.397e+03,  1.397e+03]))"
            ]
          },
          "metadata": {},
          "execution_count": 207
        }
      ]
    }
  ]
}